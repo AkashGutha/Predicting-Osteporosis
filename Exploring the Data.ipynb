{
 "cells": [
  {
   "cell_type": "code",
   "execution_count": 1,
   "metadata": {
    "collapsed": true
   },
   "outputs": [],
   "source": [
    "# pandas for dataframes and reading excel data\n",
    "import pandas as pd\n",
    "\n",
    "# numpy for matrix calculations\n",
    "import numpy as np\n",
    "\n",
    "# matplotlob for plotting data\n",
    "import matplotlib.pyplot as plt\n",
    "%matplotlib inline"
   ]
  },
  {
   "cell_type": "code",
   "execution_count": 17,
   "metadata": {},
   "outputs": [
    {
     "data": {
      "text/plain": [
       "85"
      ]
     },
     "execution_count": 17,
     "metadata": {},
     "output_type": "execute_result"
    }
   ],
   "source": [
    "data = pd.read_excel('data sheet.xlsx', sheetname='Sheet1')\n",
    "data.head()"
   ]
  },
  {
   "cell_type": "code",
   "execution_count": 3,
   "metadata": {},
   "outputs": [
    {
     "data": {
      "text/html": [
       "<div>\n",
       "<style>\n",
       "    .dataframe thead tr:only-child th {\n",
       "        text-align: right;\n",
       "    }\n",
       "\n",
       "    .dataframe thead th {\n",
       "        text-align: left;\n",
       "    }\n",
       "\n",
       "    .dataframe tbody tr th {\n",
       "        vertical-align: top;\n",
       "    }\n",
       "</style>\n",
       "<table border=\"1\" class=\"dataframe\">\n",
       "  <thead>\n",
       "    <tr style=\"text-align: right;\">\n",
       "      <th></th>\n",
       "      <th>AGE</th>\n",
       "      <th>SEX</th>\n",
       "      <th>ASSO MEDICAL PROB</th>\n",
       "      <th>H/O INJURY/SURGERY</th>\n",
       "      <th>DRUG HISTORY</th>\n",
       "      <th>FREQUENCY</th>\n",
       "      <th>avg</th>\n",
       "    </tr>\n",
       "  </thead>\n",
       "  <tbody>\n",
       "    <tr>\n",
       "      <th>0</th>\n",
       "      <td>29</td>\n",
       "      <td>Male</td>\n",
       "      <td>no</td>\n",
       "      <td>no</td>\n",
       "      <td>no</td>\n",
       "      <td>115, 115, 113</td>\n",
       "      <td>114.30</td>\n",
       "    </tr>\n",
       "    <tr>\n",
       "      <th>1</th>\n",
       "      <td>36</td>\n",
       "      <td>Female</td>\n",
       "      <td>no</td>\n",
       "      <td>no</td>\n",
       "      <td>no</td>\n",
       "      <td>95,94,96</td>\n",
       "      <td>94.00</td>\n",
       "    </tr>\n",
       "    <tr>\n",
       "      <th>2</th>\n",
       "      <td>37</td>\n",
       "      <td>Male</td>\n",
       "      <td>no</td>\n",
       "      <td>no</td>\n",
       "      <td>no</td>\n",
       "      <td>80,82,81</td>\n",
       "      <td>81.00</td>\n",
       "    </tr>\n",
       "    <tr>\n",
       "      <th>3</th>\n",
       "      <td>37</td>\n",
       "      <td>Female</td>\n",
       "      <td>no</td>\n",
       "      <td>no</td>\n",
       "      <td>no</td>\n",
       "      <td>100, 101, 100</td>\n",
       "      <td>100.33</td>\n",
       "    </tr>\n",
       "    <tr>\n",
       "      <th>4</th>\n",
       "      <td>38</td>\n",
       "      <td>female</td>\n",
       "      <td>no</td>\n",
       "      <td>no</td>\n",
       "      <td>no</td>\n",
       "      <td>9.91001e+07</td>\n",
       "      <td>99.80</td>\n",
       "    </tr>\n",
       "  </tbody>\n",
       "</table>\n",
       "</div>"
      ],
      "text/plain": [
       "   AGE     SEX ASSO MEDICAL PROB H/O INJURY/SURGERY DRUG HISTORY  \\\n",
       "0   29    Male                no                 no           no   \n",
       "1   36  Female                no                 no           no   \n",
       "2   37    Male                no                 no           no   \n",
       "3   37  Female                no                 no           no   \n",
       "4   38  female                no                 no           no   \n",
       "\n",
       "       FREQUENCY     avg  \n",
       "0  115, 115, 113  114.30  \n",
       "1       95,94,96   94.00  \n",
       "2       80,82,81   81.00  \n",
       "3  100, 101, 100  100.33  \n",
       "4    9.91001e+07   99.80  "
      ]
     },
     "execution_count": 3,
     "metadata": {},
     "output_type": "execute_result"
    }
   ],
   "source": [
    "# drop unnecessary details\n",
    "data.drop('DATE', axis=1, inplace=True)\n",
    "data.drop('SI.NO', axis=1, inplace=True)\n",
    "data.drop('NAME', axis=1, inplace=True)\n",
    "\n",
    "# recheck the data\n",
    "data.head()"
   ]
  },
  {
   "cell_type": "code",
   "execution_count": 4,
   "metadata": {},
   "outputs": [
    {
     "data": {
      "text/plain": [
       "(50, 7)"
      ]
     },
     "execution_count": 4,
     "metadata": {},
     "output_type": "execute_result"
    }
   ],
   "source": [
    "# shape of the data\n",
    "data.shape"
   ]
  },
  {
   "cell_type": "code",
   "execution_count": 5,
   "metadata": {
    "collapsed": true
   },
   "outputs": [],
   "source": [
    "# we have 50 rows and 7 columns\n",
    "# our best bet would be to do One Shot learning"
   ]
  },
  {
   "cell_type": "code",
   "execution_count": 6,
   "metadata": {},
   "outputs": [
    {
     "data": {
      "text/html": [
       "<div>\n",
       "<style>\n",
       "    .dataframe thead tr:only-child th {\n",
       "        text-align: right;\n",
       "    }\n",
       "\n",
       "    .dataframe thead th {\n",
       "        text-align: left;\n",
       "    }\n",
       "\n",
       "    .dataframe tbody tr th {\n",
       "        vertical-align: top;\n",
       "    }\n",
       "</style>\n",
       "<table border=\"1\" class=\"dataframe\">\n",
       "  <thead>\n",
       "    <tr style=\"text-align: right;\">\n",
       "      <th></th>\n",
       "      <th>AGE</th>\n",
       "      <th>SEX</th>\n",
       "      <th>FREQUENCY</th>\n",
       "      <th>MEDIC_PROB</th>\n",
       "      <th>INJURY_SURGERY</th>\n",
       "      <th>DRUG_HISTORY</th>\n",
       "      <th>AVG</th>\n",
       "    </tr>\n",
       "  </thead>\n",
       "  <tbody>\n",
       "    <tr>\n",
       "      <th>45</th>\n",
       "      <td>72</td>\n",
       "      <td>male</td>\n",
       "      <td>68, 69, 68</td>\n",
       "      <td>no</td>\n",
       "      <td>no</td>\n",
       "      <td>no</td>\n",
       "      <td>68.30</td>\n",
       "    </tr>\n",
       "    <tr>\n",
       "      <th>46</th>\n",
       "      <td>72</td>\n",
       "      <td>male</td>\n",
       "      <td>69,70,71</td>\n",
       "      <td>yes(diabetes,blockage in heart)</td>\n",
       "      <td>shouler surgery</td>\n",
       "      <td>yes</td>\n",
       "      <td>70.00</td>\n",
       "    </tr>\n",
       "    <tr>\n",
       "      <th>47</th>\n",
       "      <td>74</td>\n",
       "      <td>female</td>\n",
       "      <td>63,62,62.6</td>\n",
       "      <td>yes(diabetes,bp)</td>\n",
       "      <td>knee surgery</td>\n",
       "      <td>yes</td>\n",
       "      <td>62.53</td>\n",
       "    </tr>\n",
       "    <tr>\n",
       "      <th>48</th>\n",
       "      <td>76</td>\n",
       "      <td>male</td>\n",
       "      <td>62,61,62.5</td>\n",
       "      <td>yes(diabetes,kidney stone)</td>\n",
       "      <td>no</td>\n",
       "      <td>no</td>\n",
       "      <td>61.83</td>\n",
       "    </tr>\n",
       "    <tr>\n",
       "      <th>49</th>\n",
       "      <td>85</td>\n",
       "      <td>male</td>\n",
       "      <td>62,63,64</td>\n",
       "      <td>yes (diabetes,heart blockage)</td>\n",
       "      <td>yes(open heart surgery)</td>\n",
       "      <td>yes</td>\n",
       "      <td>63.00</td>\n",
       "    </tr>\n",
       "  </tbody>\n",
       "</table>\n",
       "</div>"
      ],
      "text/plain": [
       "    AGE     SEX   FREQUENCY                       MEDIC_PROB  \\\n",
       "45   72    male  68, 69, 68                               no   \n",
       "46   72    male    69,70,71  yes(diabetes,blockage in heart)   \n",
       "47   74  female  63,62,62.6                 yes(diabetes,bp)   \n",
       "48   76    male  62,61,62.5       yes(diabetes,kidney stone)   \n",
       "49   85    male    62,63,64    yes (diabetes,heart blockage)   \n",
       "\n",
       "             INJURY_SURGERY DRUG_HISTORY    AVG  \n",
       "45                       no           no  68.30  \n",
       "46          shouler surgery          yes  70.00  \n",
       "47             knee surgery          yes  62.53  \n",
       "48                       no           no  61.83  \n",
       "49  yes(open heart surgery)          yes  63.00  "
      ]
     },
     "execution_count": 6,
     "metadata": {},
     "output_type": "execute_result"
    }
   ],
   "source": [
    "# we will convert data into lowercase\n",
    "data['SEX'] = data['SEX'].str.lower()\n",
    "data['MEDIC_PROB'] = data['ASSO MEDICAL PROB'].str.lower()\n",
    "data['INJURY_SURGERY'] = data['H/O INJURY/SURGERY'].str.lower()\n",
    "data['DRUG_HISTORY'] = data['DRUG HISTORY'].str.lower()\n",
    "data['AVG'] = data['avg']\n",
    "\n",
    "data.drop( ['ASSO MEDICAL PROB','H/O INJURY/SURGERY','DRUG HISTORY', 'avg' ], axis=1 ,inplace=True)\n",
    "\n",
    "data.tail()"
   ]
  },
  {
   "cell_type": "code",
   "execution_count": 7,
   "metadata": {
    "collapsed": true
   },
   "outputs": [],
   "source": [
    "# now we need to cahnge our data into computer recognizable data.\n",
    "# from strings in sex and medical prob and others to integers\n",
    "\n",
    "# changing SEX\n",
    "data['SEX'] = data['SEX'] == 'female'\n",
    "data['SEX'] = data['SEX'].map({ True:1, False:0 })\n",
    "\n",
    "# changing medical probelm data\n",
    "data['MEDIC_PROB'] = data['MEDIC_PROB'] == 'no'\n",
    "data['MEDIC_PROB'] = data['MEDIC_PROB'].map({ True:0, False:1 })\n",
    "\n",
    "# changing Injury surgery data\n",
    "data['INJURY_SURGERY'] = data['INJURY_SURGERY'] == 'no'\n",
    "data['INJURY_SURGERY'] = data['INJURY_SURGERY'].map({ True:0, False:1 })\n",
    "\n",
    "# changing drug history data\n",
    "data['DRUG_HISTORY'] = data['DRUG_HISTORY'] == 'no'\n",
    "data['DRUG_HISTORY'] = data['DRUG_HISTORY'].map({ True:0, False:1 })\n",
    "\n",
    "# adding category for Osteoporosis, Osteopenia and Normal conditions\n",
    "# Normal 0 -- Osteopenia 1 -- Osteoporosis 2\n",
    "def categorize_data(freq):\n",
    "    # if frequency is less than 70, the subject is Osteoporotic\n",
    "    if(freq<60):\n",
    "        return 2\n",
    "    # if frequency is less than 100 and greate than 70, the subject is Osteopeniac\n",
    "    elif(freq<100):\n",
    "        return 1\n",
    "    # if frequency is greater than 100, the subject is Normal\n",
    "    else:\n",
    "        return 0\n",
    "        \n",
    "\n",
    "data['CATEGORY'] = data['AVG'].map(categorize_data)"
   ]
  },
  {
   "cell_type": "code",
   "execution_count": 8,
   "metadata": {},
   "outputs": [
    {
     "data": {
      "text/html": [
       "<div>\n",
       "<style>\n",
       "    .dataframe thead tr:only-child th {\n",
       "        text-align: right;\n",
       "    }\n",
       "\n",
       "    .dataframe thead th {\n",
       "        text-align: left;\n",
       "    }\n",
       "\n",
       "    .dataframe tbody tr th {\n",
       "        vertical-align: top;\n",
       "    }\n",
       "</style>\n",
       "<table border=\"1\" class=\"dataframe\">\n",
       "  <thead>\n",
       "    <tr style=\"text-align: right;\">\n",
       "      <th></th>\n",
       "      <th>AGE</th>\n",
       "      <th>SEX</th>\n",
       "      <th>MEDIC_PROB</th>\n",
       "      <th>INJURY_SURGERY</th>\n",
       "      <th>DRUG_HISTORY</th>\n",
       "      <th>AVG</th>\n",
       "      <th>CATEGORY</th>\n",
       "    </tr>\n",
       "  </thead>\n",
       "  <tbody>\n",
       "    <tr>\n",
       "      <th>0</th>\n",
       "      <td>29</td>\n",
       "      <td>0</td>\n",
       "      <td>0</td>\n",
       "      <td>0</td>\n",
       "      <td>0</td>\n",
       "      <td>114.30</td>\n",
       "      <td>0</td>\n",
       "    </tr>\n",
       "    <tr>\n",
       "      <th>1</th>\n",
       "      <td>36</td>\n",
       "      <td>1</td>\n",
       "      <td>0</td>\n",
       "      <td>0</td>\n",
       "      <td>0</td>\n",
       "      <td>94.00</td>\n",
       "      <td>1</td>\n",
       "    </tr>\n",
       "    <tr>\n",
       "      <th>2</th>\n",
       "      <td>37</td>\n",
       "      <td>0</td>\n",
       "      <td>0</td>\n",
       "      <td>0</td>\n",
       "      <td>0</td>\n",
       "      <td>81.00</td>\n",
       "      <td>1</td>\n",
       "    </tr>\n",
       "    <tr>\n",
       "      <th>3</th>\n",
       "      <td>37</td>\n",
       "      <td>1</td>\n",
       "      <td>0</td>\n",
       "      <td>0</td>\n",
       "      <td>0</td>\n",
       "      <td>100.33</td>\n",
       "      <td>0</td>\n",
       "    </tr>\n",
       "    <tr>\n",
       "      <th>4</th>\n",
       "      <td>38</td>\n",
       "      <td>1</td>\n",
       "      <td>0</td>\n",
       "      <td>0</td>\n",
       "      <td>0</td>\n",
       "      <td>99.80</td>\n",
       "      <td>1</td>\n",
       "    </tr>\n",
       "  </tbody>\n",
       "</table>\n",
       "</div>"
      ],
      "text/plain": [
       "   AGE  SEX  MEDIC_PROB  INJURY_SURGERY  DRUG_HISTORY     AVG  CATEGORY\n",
       "0   29    0           0               0             0  114.30         0\n",
       "1   36    1           0               0             0   94.00         1\n",
       "2   37    0           0               0             0   81.00         1\n",
       "3   37    1           0               0             0  100.33         0\n",
       "4   38    1           0               0             0   99.80         1"
      ]
     },
     "execution_count": 8,
     "metadata": {},
     "output_type": "execute_result"
    }
   ],
   "source": [
    "# we know that some 'yes' had other details so we will fill \n",
    "# the Assoc medical problems and injury surgery as 1.\n",
    "data.fillna(-999999999)\n",
    "\n",
    "# removing the FREQUENCY column since it's average is stored in 'avg' column\n",
    "data.drop('FREQUENCY',axis= 1, inplace=True)\n",
    "data.head()"
   ]
  },
  {
   "cell_type": "code",
   "execution_count": 9,
   "metadata": {
    "collapsed": true
   },
   "outputs": [],
   "source": [
    "# export unscaled data\n",
    "import pickle\n",
    "\n",
    "with open('data_processed_unscaled.pickle', 'wb') as file:\n",
    "    pickle.dump(data, file)\n",
    "\n",
    "# export unscaled data as csv\n",
    "data.to_csv('data_processed_unscaled.csv', index=False, encoding='utf-8')"
   ]
  },
  {
   "cell_type": "code",
   "execution_count": 10,
   "metadata": {
    "collapsed": true
   },
   "outputs": [],
   "source": [
    "# now, since the data is not scaled we will scale each column into a songle range 0 to 2\n",
    "from sklearn.preprocessing import MinMaxScaler\n",
    "\n",
    "data_scaled = MinMaxScaler().fit_transform(data)"
   ]
  },
  {
   "cell_type": "code",
   "execution_count": 11,
   "metadata": {},
   "outputs": [
    {
     "data": {
      "text/html": [
       "<div>\n",
       "<style>\n",
       "    .dataframe thead tr:only-child th {\n",
       "        text-align: right;\n",
       "    }\n",
       "\n",
       "    .dataframe thead th {\n",
       "        text-align: left;\n",
       "    }\n",
       "\n",
       "    .dataframe tbody tr th {\n",
       "        vertical-align: top;\n",
       "    }\n",
       "</style>\n",
       "<table border=\"1\" class=\"dataframe\">\n",
       "  <thead>\n",
       "    <tr style=\"text-align: right;\">\n",
       "      <th></th>\n",
       "      <th>AGE</th>\n",
       "      <th>SEX</th>\n",
       "      <th>MEDIC_PROB</th>\n",
       "      <th>INJURY_SURGERY</th>\n",
       "      <th>DRUG_HISTORY</th>\n",
       "      <th>AVG</th>\n",
       "      <th>CATEGORY</th>\n",
       "    </tr>\n",
       "  </thead>\n",
       "  <tbody>\n",
       "    <tr>\n",
       "      <th>0</th>\n",
       "      <td>0.000000</td>\n",
       "      <td>0.0</td>\n",
       "      <td>0.0</td>\n",
       "      <td>0.0</td>\n",
       "      <td>0.0</td>\n",
       "      <td>1.000000</td>\n",
       "      <td>0.0</td>\n",
       "    </tr>\n",
       "    <tr>\n",
       "      <th>1</th>\n",
       "      <td>0.125000</td>\n",
       "      <td>1.0</td>\n",
       "      <td>0.0</td>\n",
       "      <td>0.0</td>\n",
       "      <td>0.0</td>\n",
       "      <td>0.616764</td>\n",
       "      <td>1.0</td>\n",
       "    </tr>\n",
       "    <tr>\n",
       "      <th>2</th>\n",
       "      <td>0.142857</td>\n",
       "      <td>0.0</td>\n",
       "      <td>0.0</td>\n",
       "      <td>0.0</td>\n",
       "      <td>0.0</td>\n",
       "      <td>0.371342</td>\n",
       "      <td>1.0</td>\n",
       "    </tr>\n",
       "    <tr>\n",
       "      <th>3</th>\n",
       "      <td>0.142857</td>\n",
       "      <td>1.0</td>\n",
       "      <td>0.0</td>\n",
       "      <td>0.0</td>\n",
       "      <td>0.0</td>\n",
       "      <td>0.736266</td>\n",
       "      <td>0.0</td>\n",
       "    </tr>\n",
       "    <tr>\n",
       "      <th>4</th>\n",
       "      <td>0.160714</td>\n",
       "      <td>1.0</td>\n",
       "      <td>0.0</td>\n",
       "      <td>0.0</td>\n",
       "      <td>0.0</td>\n",
       "      <td>0.726260</td>\n",
       "      <td>1.0</td>\n",
       "    </tr>\n",
       "  </tbody>\n",
       "</table>\n",
       "</div>"
      ],
      "text/plain": [
       "        AGE  SEX  MEDIC_PROB  INJURY_SURGERY  DRUG_HISTORY       AVG  CATEGORY\n",
       "0  0.000000  0.0         0.0             0.0           0.0  1.000000       0.0\n",
       "1  0.125000  1.0         0.0             0.0           0.0  0.616764       1.0\n",
       "2  0.142857  0.0         0.0             0.0           0.0  0.371342       1.0\n",
       "3  0.142857  1.0         0.0             0.0           0.0  0.736266       0.0\n",
       "4  0.160714  1.0         0.0             0.0           0.0  0.726260       1.0"
      ]
     },
     "execution_count": 11,
     "metadata": {},
     "output_type": "execute_result"
    }
   ],
   "source": [
    "df_scaled = pd.DataFrame(data_scaled)\n",
    "df_scaled.columns = data.columns\n",
    "df_scaled.head()"
   ]
  },
  {
   "cell_type": "code",
   "execution_count": 12,
   "metadata": {
    "collapsed": true
   },
   "outputs": [],
   "source": [
    "# export unscaled data\n",
    "import pickle\n",
    "\n",
    "with open('data_processed_scaled.pickle', 'wb') as file:\n",
    "    pickle.dump(df_scaled, file)\n",
    "\n",
    "# export scaled data as csv\n",
    "df_scaled.to_csv('data_processed_scaled.csv', index=False, encoding='utf-8')"
   ]
  },
  {
   "cell_type": "code",
   "execution_count": 19,
   "metadata": {},
   "outputs": [
    {
     "data": {
      "image/png": "[encoded data removed]",
      "text/plain": [
       "<matplotlib.figure.Figure at 0x1a17dfa358>"
      ]
     },
     "metadata": {},
     "output_type": "display_data"
    }
   ],
   "source": [
    "# plot the data\n",
    "from matplotlib import pyplot as plt\n",
    "\n",
    "plt.plot(df_scaled['AGE'] * 85, df_scaled['AVG'])\n",
    "plt.show()"
   ]
  },
  {
   "cell_type": "code",
   "execution_count": null,
   "metadata": {
    "collapsed": true
   },
   "outputs": [],
   "source": []
  }
 ],
 "metadata": {
  "kernelspec": {
   "display_name": "Python 3",
   "language": "python",
   "name": "python3"
  },
  "language_info": {
   "codemirror_mode": {
    "name": "ipython",
    "version": 3
   },
   "file_extension": ".py",
   "mimetype": "text/x-python",
   "name": "python",
   "nbconvert_exporter": "python",
   "pygments_lexer": "ipython3",
   "version": "3.6.2"
  }
 },
 "nbformat": 4,
 "nbformat_minor": 2
}
