{
 "cells": [
  {
   "cell_type": "code",
   "execution_count": 15,
   "metadata": {
    "collapsed": true
   },
   "outputs": [],
   "source": [
    "import pickle\n",
    "import pandas as pd"
   ]
  },
  {
   "cell_type": "code",
   "execution_count": 35,
   "metadata": {},
   "outputs": [],
   "source": [
    "# get the pre-processed data.\n",
    "with open('data_processed_scaled.pickle', 'rb') as file:\n",
    "    data = pickle.load(file)\n",
    "\n",
    "# data processing    \n",
    "X = data\n",
    "Y = data['CATEGORY']\n",
    "\n",
    "# drop the AVG and CATEGORY from training model\n",
    "X.drop( ['AVG','CATEGORY'] , axis=1, inplace=True)\n",
    "    \n",
    "# divide data into testing and training models\n",
    "from sklearn import model_selection\n",
    "\n",
    "X_train, X_test, Y_train, Y_test = model_selection.train_test_split(X,Y)"
   ]
  },
  {
   "cell_type": "code",
   "execution_count": 36,
   "metadata": {},
   "outputs": [
    {
     "data": {
      "text/plain": [
       "1.0"
      ]
     },
     "execution_count": 36,
     "metadata": {},
     "output_type": "execute_result"
    }
   ],
   "source": [
    "# importing SVM and training the classifier\n",
    "from sklearn import svm\n",
    "clf = svm.SVC()\n",
    "\n",
    "# train our model\n",
    "score = 0\n",
    "\n",
    "clf.fit(X_train, Y_train)\n",
    "score = clf.score(X_test,Y_test)\n",
    "    \n",
    "( score )"
   ]
  },
  {
   "cell_type": "code",
   "execution_count": null,
   "metadata": {
    "collapsed": true
   },
   "outputs": [],
   "source": []
  }
 ],
 "metadata": {
  "kernelspec": {
   "display_name": "Python 3",
   "language": "python",
   "name": "python3"
  },
  "language_info": {
   "codemirror_mode": {
    "name": "ipython",
    "version": 3
   },
   "file_extension": ".py",
   "mimetype": "text/x-python",
   "name": "python",
   "nbconvert_exporter": "python",
   "pygments_lexer": "ipython3",
   "version": "3.6.2"
  }
 },
 "nbformat": 4,
 "nbformat_minor": 2
}
