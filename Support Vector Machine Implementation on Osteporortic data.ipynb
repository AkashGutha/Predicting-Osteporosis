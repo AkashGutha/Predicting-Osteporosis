{
 "cells": [
  {
   "cell_type": "code",
   "execution_count": 1,
   "metadata": {
    "collapsed": true
   },
   "outputs": [],
   "source": [
    "import pickle\n",
    "from sklearn import linear_model\n",
    "import pandas as pd"
   ]
  },
  {
   "cell_type": "code",
   "execution_count": 2,
   "metadata": {},
   "outputs": [],
   "source": [
    "# get the pre-processed data.\n",
    "with open('data_processed', 'rb') as f:\n",
    "    data = pickle.load(f)\n",
    "\n",
    "# divide data into testing and training models\n",
    "from sklearn import model_selection\n",
    "X = data.drop(['FREQUENCY'], axis=1)\n",
    "Y = data['avg']\n",
    "\n",
    "# for Classification target Category should be passed in as target\n",
    "def freq_to_category(x):\n",
    "    if x >= 100: return 0\n",
    "    elif x>=70 : return 1\n",
    "    return 2\n",
    "Y = Y.apply(freq_to_category);\n",
    "\n",
    "# drop the avg from training model\n",
    "X.drop('avg', axis=1, inplace=True)\n",
    "\n",
    "X_train, X_test, Y_train, Y_test = model_selection.train_test_split(X,Y)"
   ]
  },
  {
   "cell_type": "code",
   "execution_count": null,
   "metadata": {},
   "outputs": [],
   "source": [
    "# importing SVM and training the classifier\n",
    "from sklearn import svm\n",
    "clf = svm.SVC()"
   ]
  },
  {
   "cell_type": "code",
   "execution_count": null,
   "metadata": {},
   "outputs": [],
   "source": [
    "# train our model\n",
    "score = 0\n",
    "iterations = 10\n",
    "\n",
    "while score < 0.8 or iterations > 0: \n",
    "    clf.fit(X_train, Y_train)\n",
    "    score = clf.score(X_test,Y_test)\n",
    "    iterations = iterations-1\n",
    "    \n",
    "print(\"Classififcation completed----------------------------------\")\n",
    "print( score, iterations )"
   ]
  },
  {
   "cell_type": "code",
   "execution_count": null,
   "metadata": {
    "collapsed": true
   },
   "outputs": [],
   "source": []
  }
 ],
 "metadata": {
  "kernelspec": {
   "display_name": "Python 3",
   "language": "python",
   "name": "python3"
  },
  "language_info": {
   "codemirror_mode": {
    "name": "ipython",
    "version": 3
   },
   "file_extension": ".py",
   "mimetype": "text/x-python",
   "name": "python",
   "nbconvert_exporter": "python",
   "pygments_lexer": "ipython3",
   "version": "3.6.2"
  }
 },
 "nbformat": 4,
 "nbformat_minor": 2
}
