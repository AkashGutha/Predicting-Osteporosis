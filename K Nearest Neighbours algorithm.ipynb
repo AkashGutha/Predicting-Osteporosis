{
 "cells": [
  {
   "cell_type": "code",
   "execution_count": 13,
   "metadata": {},
   "outputs": [],
   "source": [
    "# import required libraries\n",
    "import pickle\n",
    "from sklearn import linear_model\n",
    "import pandas as pd\n",
    "\n",
    "# import data\n",
    "# get the pre-processed data.\n",
    "with open('data_processed_scaled.pickle', 'rb') as f:\n",
    "    data = pickle.load(f)\n",
    "\n",
    "# divide data into testing and training models\n",
    "from sklearn import model_selection\n",
    "X = data\n",
    "Y = data['CATEGORY']\n",
    "\n",
    "# drop the avg from training model\n",
    "X.drop( ['AVG','CATEGORY'], axis=1, inplace=True)\n",
    "\n",
    "X_train, X_test, Y_train, Y_test = model_selection.train_test_split(X,Y)"
   ]
  },
  {
   "cell_type": "code",
   "execution_count": 14,
   "metadata": {},
   "outputs": [
    {
     "data": {
      "text/plain": [
       "1.0"
      ]
     },
     "execution_count": 14,
     "metadata": {},
     "output_type": "execute_result"
    }
   ],
   "source": [
    "# importing KNN and training the classifier\n",
    "from sklearn.neighbors import KNeighborsClassifier\n",
    "clf = KNeighborsClassifier(n_neighbors=2, algorithm='ball_tree')\n",
    "\n",
    "# train our model\n",
    "score = 0\n",
    "\n",
    "clf.fit(X_train, Y_train)\n",
    "score = clf.score(X_test,Y_test)\n",
    "    \n",
    "( score )"
   ]
  },
  {
   "cell_type": "code",
   "execution_count": null,
   "metadata": {
    "collapsed": true
   },
   "outputs": [],
   "source": []
  }
 ],
 "metadata": {
  "kernelspec": {
   "display_name": "Python 3",
   "language": "python",
   "name": "python3"
  },
  "language_info": {
   "codemirror_mode": {
    "name": "ipython",
    "version": 3
   },
   "file_extension": ".py",
   "mimetype": "text/x-python",
   "name": "python",
   "nbconvert_exporter": "python",
   "pygments_lexer": "ipython3",
   "version": "3.6.2"
  }
 },
 "nbformat": 4,
 "nbformat_minor": 2
}
